{
 "cells": [
  {
   "cell_type": "code",
   "execution_count": 1,
   "id": "37b59464",
   "metadata": {},
   "outputs": [
    {
     "name": "stderr",
     "output_type": "stream",
     "text": [
      "/data/keeling/a/tjhanke2/miniconda3/lib/python3.8/site-packages/statsmodels/compat/pandas.py:65: FutureWarning: pandas.Int64Index is deprecated and will be removed from pandas in a future version. Use pandas.Index with the appropriate dtype instead.\n",
      "  from pandas import Int64Index as NumericIndex\n"
     ]
    },
    {
     "data": {
      "text/html": [
       "<style>.container { width:90% !important; }</style>"
      ],
      "text/plain": [
       "<IPython.core.display.HTML object>"
      ]
     },
     "metadata": {},
     "output_type": "display_data"
    }
   ],
   "source": [
    "# Data Management\n",
    "import numpy as np\n",
    "import xarray as xr\n",
    "import pandas as pd\n",
    "import netCDF4 as nc\n",
    "import cftime\n",
    "\n",
    "# Plotting\n",
    "import matplotlib as mpl\n",
    "import matplotlib.pyplot as plt\n",
    "import cartopy\n",
    "from cartopy import config\n",
    "import cartopy.crs as ccrs\n",
    "\n",
    "# Statistics\n",
    "import climlab\n",
    "from sklearn.linear_model import LinearRegression\n",
    "from sklearn.datasets import make_regression\n",
    "from sklearn.metrics import r2_score\n",
    "from scipy.linalg import lstsq\n",
    "from scipy.optimize import fmin_tnc\n",
    "import scipy.stats as st\n",
    "import statsmodels.api as sm\n",
    "from eofs.standard import Eof\n",
    "\n",
    "# Window Display\n",
    "import warnings\n",
    "from IPython.core.display import display, HTML\n",
    "display(HTML(\"<style>.container { width:90% !important; }</style>\"))\n",
    "warnings.filterwarnings('ignore')\n",
    "%matplotlib inline"
   ]
  },
  {
   "cell_type": "markdown",
   "id": "8231ebe7",
   "metadata": {},
   "source": [
    "Principal Component Analysis (PCA) is an unsupervised data reduction technique that is designed to reduce an mxn matrix into a kxn matrix, where hopefully k << m. This technique makes it possible to reduce large data arrays into a small amount of principal components (PCs) that explain the most amount of variance as possible in the data array.\n",
    "\n",
    "PCA does this by utilizing singular value decomposition (SVD), which is a generalization of the eigendecomposition of a square matrix to any mxn matrix. It's used heavily in factor analysis, and has seen a lot of applications in the field of atmospheric science (although, AtmoSci uses the term \"Empirical Orthogonal Function Analysis\"). Let's go through the mathematics of PCA."
   ]
  },
  {
   "cell_type": "markdown",
   "id": "c161d60f",
   "metadata": {},
   "source": [
    "The first assumption that is made in PCA is that the data is centered and has unit variance. For any matrix X, SVD is the factorization of the expression\n",
    "\n",
    "$$X = U\\Sigma V^T$$\n",
    "\n",
    "Where $\\Sigma$ is a diagonal matrix of singular values $\\sigma$ in X (so that X can be an mxn matrix, whereas eigenvalues are only for nxn matrices) and U and V are orthogonal matrices. If we want to maximize the amount of variance our singular values (PCs) explain within the data set X, we need to construct the covariance matrix and factorize it. We can calculate the covariance matrix of X by\n",
    "\n",
    "$$\\frac{1}{n-1}X^TX = \\frac{1}{n-1}(U\\Sigma V^T)^T(U\\Sigma V^T)$$\n",
    "$$\\frac{1}{n-1}X^TX = \\frac{1}{n-1}(V\\Sigma U^T)(U\\Sigma V^T)$$\n",
    "$$\\frac{1}{n-1}X^TX = \\frac{1}{n-1}V\\Sigma U^TU\\Sigma V^T$$\n",
    "\n",
    "Since U is orthogonal, $U^TU = I$. Thus,\n",
    "\n",
    "$$\\frac{1}{n-1}X^TX = \\frac{1}{n-1}V\\Sigma\\Sigma V^T$$\n",
    "$$\\frac{1}{n-1}X^TX = \\frac{1}{n-1}V(\\Sigma)^2 V^T$$"
   ]
  },
  {
   "cell_type": "markdown",
   "id": "db24efd6",
   "metadata": {},
   "source": [
    "We now perform eigendecomposition, which is factoring a matrix into seperate eigenvectors. A vector is an eigenvector of a matrix if it solves the matrix equation\n",
    "\n",
    "$$Av = \\lambda v$$\n",
    "\n",
    "Therefore, the eigendecomposition of the covariance matrix (since the covariance matrix is square) is\n",
    "\n",
    "$$(\\frac{1}{n-1}X^TX)V = \\lambda V$$\n",
    "$$(\\frac{1}{n-1}V(\\Sigma)^2V^T)V = \\lambda V$$\n",
    "$$\\frac{1}{n-1}(\\Sigma)^2V = \\lambda V$$\n",
    "\n",
    "So, this shows that the singular values are equal to the eigenvalues of the covariance matrix. Put in other words,\n",
    "\n",
    "$$\\lambda_i = \\frac{\\sigma^2_i}{n-1}$$\n",
    "\n",
    "Finally, we can retrieve the principal components by calculating the singular values using the eigenvalues of the covariance matrix and doing\n",
    "\n",
    "$$XV = (U\\Sigma V^T)V = U\\Sigma V^TV = U\\Sigma$$"
   ]
  },
  {
   "cell_type": "markdown",
   "id": "ac3cc52e",
   "metadata": {},
   "source": [
    "Now that we've gone through the mathematics, let's actually decompose a Gaussian dataset."
   ]
  },
  {
   "cell_type": "code",
   "execution_count": 96,
   "id": "742faf4e",
   "metadata": {},
   "outputs": [
    {
     "data": {
      "text/plain": [
       "<matplotlib.collections.PathCollection at 0x2b40abcdabb0>"
      ]
     },
     "execution_count": 96,
     "metadata": {},
     "output_type": "execute_result"
    },
    {
     "data": {
      "image/png": "[encoded data removed]",
      "text/plain": [
       "<Figure size 432x288 with 1 Axes>"
      ]
     },
     "metadata": {
      "needs_background": "light"
     },
     "output_type": "display_data"
    }
   ],
   "source": [
    "## Create Gaussian Dataset\n",
    "rng = np.random.RandomState(0)\n",
    "n_samples = 100\n",
    "cov = [[3, 3],\n",
    "       [3, 4]]\n",
    "X = rng.multivariate_normal(mean=[0, 0], cov=cov, size=n_samples)\n",
    "\n",
    "plt.scatter(X[:,0], X[:,1], color='k')"
   ]
  },
  {
   "cell_type": "code",
   "execution_count": 111,
   "id": "5f6ef2b4",
   "metadata": {},
   "outputs": [],
   "source": [
    "## Scale the data\n",
    "X_scaled = (X - np.mean(X)) / np.std(X)\n",
    "\n",
    "## Get the covariance matrix of X\n",
    "cov_X = 1/(n_samples-1)*np.dot(X_scaled,X_scaled.T)\n",
    "\n",
    "## Perform eigendecomposition on Cov_X\n",
    "evals,evecs = np.linalg.eigh(cov_X)\n",
    "\n",
    "## Sort the eigenvalues according to size\n",
    "sort = evals.argsort()[::-1]\n",
    "evals,evecs = evals[sort],evecs[:,sort]\n",
    "\n",
    "## Project the data onto the evecs\n",
    "pcs = np.matmul(X.T,evecs)"
   ]
  },
  {
   "cell_type": "code",
   "execution_count": 135,
   "id": "9b16a14c",
   "metadata": {
    "scrolled": false
   },
   "outputs": [
    {
     "data": {
      "text/html": [
       "<div>\n",
       "<style scoped>\n",
       "    .dataframe tbody tr th:only-of-type {\n",
       "        vertical-align: middle;\n",
       "    }\n",
       "\n",
       "    .dataframe tbody tr th {\n",
       "        vertical-align: top;\n",
       "    }\n",
       "\n",
       "    .dataframe thead th {\n",
       "        text-align: right;\n",
       "    }\n",
       "</style>\n",
       "<table border=\"1\" class=\"dataframe\">\n",
       "  <thead>\n",
       "    <tr style=\"text-align: right;\">\n",
       "      <th></th>\n",
       "      <th>0</th>\n",
       "      <th>1</th>\n",
       "      <th>2</th>\n",
       "      <th>3</th>\n",
       "    </tr>\n",
       "  </thead>\n",
       "  <tbody>\n",
       "    <tr>\n",
       "      <th>0</th>\n",
       "      <td>16.756709</td>\n",
       "      <td>20.060419</td>\n",
       "      <td>-3.123062</td>\n",
       "      <td>-3.267402</td>\n",
       "    </tr>\n",
       "    <tr>\n",
       "      <th>1</th>\n",
       "      <td>-5.334788</td>\n",
       "      <td>4.446271</td>\n",
       "      <td>-2.775958</td>\n",
       "      <td>-0.929101</td>\n",
       "    </tr>\n",
       "    <tr>\n",
       "      <th>2</th>\n",
       "      <td>-0.001613</td>\n",
       "      <td>-0.001613</td>\n",
       "      <td>-2.582416</td>\n",
       "      <td>-4.072345</td>\n",
       "    </tr>\n",
       "    <tr>\n",
       "      <th>3</th>\n",
       "      <td>0.004279</td>\n",
       "      <td>0.004279</td>\n",
       "      <td>-1.492453</td>\n",
       "      <td>-1.920361</td>\n",
       "    </tr>\n",
       "    <tr>\n",
       "      <th>4</th>\n",
       "      <td>0.005771</td>\n",
       "      <td>0.005771</td>\n",
       "      <td>-0.041529</td>\n",
       "      <td>0.381166</td>\n",
       "    </tr>\n",
       "    <tr>\n",
       "      <th>...</th>\n",
       "      <td>...</td>\n",
       "      <td>...</td>\n",
       "      <td>...</td>\n",
       "      <td>...</td>\n",
       "    </tr>\n",
       "    <tr>\n",
       "      <th>95</th>\n",
       "      <td>0.000980</td>\n",
       "      <td>0.000980</td>\n",
       "      <td>1.999328</td>\n",
       "      <td>2.639920</td>\n",
       "    </tr>\n",
       "    <tr>\n",
       "      <th>96</th>\n",
       "      <td>-0.003772</td>\n",
       "      <td>-0.003772</td>\n",
       "      <td>0.668528</td>\n",
       "      <td>-0.434654</td>\n",
       "    </tr>\n",
       "    <tr>\n",
       "      <th>97</th>\n",
       "      <td>0.002275</td>\n",
       "      <td>0.002275</td>\n",
       "      <td>-0.776426</td>\n",
       "      <td>-1.096271</td>\n",
       "    </tr>\n",
       "    <tr>\n",
       "      <th>98</th>\n",
       "      <td>0.003141</td>\n",
       "      <td>0.003141</td>\n",
       "      <td>-1.701433</td>\n",
       "      <td>-1.145681</td>\n",
       "    </tr>\n",
       "    <tr>\n",
       "      <th>99</th>\n",
       "      <td>0.004392</td>\n",
       "      <td>0.004392</td>\n",
       "      <td>-4.266832</td>\n",
       "      <td>-3.636531</td>\n",
       "    </tr>\n",
       "  </tbody>\n",
       "</table>\n",
       "<p>100 rows × 4 columns</p>\n",
       "</div>"
      ],
      "text/plain": [
       "            0          1         2         3\n",
       "0   16.756709  20.060419 -3.123062 -3.267402\n",
       "1   -5.334788   4.446271 -2.775958 -0.929101\n",
       "2   -0.001613  -0.001613 -2.582416 -4.072345\n",
       "3    0.004279   0.004279 -1.492453 -1.920361\n",
       "4    0.005771   0.005771 -0.041529  0.381166\n",
       "..        ...        ...       ...       ...\n",
       "95   0.000980   0.000980  1.999328  2.639920\n",
       "96  -0.003772  -0.003772  0.668528 -0.434654\n",
       "97   0.002275   0.002275 -0.776426 -1.096271\n",
       "98   0.003141   0.003141 -1.701433 -1.145681\n",
       "99   0.004392   0.004392 -4.266832 -3.636531\n",
       "\n",
       "[100 rows x 4 columns]"
      ]
     },
     "execution_count": 135,
     "metadata": {},
     "output_type": "execute_result"
    }
   ],
   "source": [
    "df = pd.DataFrame(np.hstack((pcs.T,X)))\n",
    "df"
   ]
  },
  {
   "cell_type": "code",
   "execution_count": 144,
   "id": "3651996a",
   "metadata": {},
   "outputs": [
    {
     "data": {
      "text/plain": [
       "[<matplotlib.lines.Line2D at 0x2b40ab0295e0>]"
      ]
     },
     "execution_count": 144,
     "metadata": {},
     "output_type": "execute_result"
    },
    {
     "data": {
      "image/png": "[encoded data removed]",
      "text/plain": [
       "<Figure size 432x288 with 1 Axes>"
      ]
     },
     "metadata": {
      "needs_background": "light"
     },
     "output_type": "display_data"
    }
   ],
   "source": [
    "plt.plot(df[0]);\n",
    "plt.plot(df[1])"
   ]
  },
  {
   "cell_type": "code",
   "execution_count": null,
   "id": "564b2ab3",
   "metadata": {},
   "outputs": [],
   "source": []
  }
 ],
 "metadata": {
  "kernelspec": {
   "display_name": "Python 3 (ipykernel)",
   "language": "python",
   "name": "python3"
  },
  "language_info": {
   "codemirror_mode": {
    "name": "ipython",
    "version": 3
   },
   "file_extension": ".py",
   "mimetype": "text/x-python",
   "name": "python",
   "nbconvert_exporter": "python",
   "pygments_lexer": "ipython3",
   "version": "3.8.3"
  }
 },
 "nbformat": 4,
 "nbformat_minor": 5
}
